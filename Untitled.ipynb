{
 "cells": [
  {
   "cell_type": "code",
   "execution_count": null,
   "metadata": {
    "collapsed": true
   },
   "outputs": [],
   "source": []
  },
  {
   "cell_type": "markdown",
   "metadata": {},
   "source": [
    "##Calibration Example\n",
    "Extracted from the caret Packa"
   ]
  },
  {
   "cell_type": "code",
   "execution_count": null,
   "metadata": {
    "collapsed": true
   },
   "outputs": [],
   "source": [
    "set.seed(0) \n",
    "require(caret)\n",
    "data(mdrr)\n",
    "mdrrDescr <- mdrrDescr[, -nearZeroVar(mdrrDescr)]\n",
    "mdrrDescr <- mdrrDescr[, -findCorrelation(cor(mdrrDescr), .5)]\n",
    " \n",
    " \n",
    "inTrain <- createDataPartition(mdrrClass)\n",
    "trainX <- mdrrDescr[inTrain[[1]], ]\n",
    "trainY <- mdrrClass[inTrain[[1]]]\n",
    "testX <- mdrrDescr[-inTrain[[1]], ]\n",
    "testY <- mdrrClass[-inTrain[[1]]]\n",
    " \n",
    "library(MASS)\n",
    " \n",
    "ldaFit <- lda(trainX, trainY)\n",
    "qdaFit <- qda(trainX, trainY)\n",
    " \n",
    "testProbs <- data.frame(obs = testY,\n",
    "                        lda = predict(ldaFit, testX)$posterior[,1],\n",
    "                        qda = predict(qdaFit, testX)$posterior[,1])\n",
    " \n",
    " \n",
    "calPlotData <- calibration(obs ~ lda + qda, data = testProbs)\n",
    " \n",
    "xyplot(calPlotData, auto.key = list(columns = 2))"
   ]
  }
 ],
 "metadata": {
  "kernelspec": {
   "display_name": "R",
   "language": "R",
   "name": "ir"
  },
  "language_info": {
   "codemirror_mode": "r",
   "file_extension": ".r",
   "mimetype": "text/x-r-source",
   "name": "R",
   "pygments_lexer": "r",
   "version": "3.2.3"
  }
 },
 "nbformat": 4,
 "nbformat_minor": 0
}
